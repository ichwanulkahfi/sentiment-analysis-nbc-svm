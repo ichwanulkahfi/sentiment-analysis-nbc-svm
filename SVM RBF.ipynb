{
 "cells": [
  {
   "cell_type": "code",
   "execution_count": 1,
   "metadata": {},
   "outputs": [],
   "source": [
    "from sklearn.model_selection import GridSearchCV\n",
    "from sklearn.svm import SVC\n",
    "from sklearn.metrics import classification_report\n",
    "from sklearn.metrics import accuracy_score\n",
    "from sklearn.metrics import roc_auc_score\n",
    "from sklearn.metrics import confusion_matrix"
   ]
  },
  {
   "cell_type": "code",
   "execution_count": 3,
   "metadata": {},
   "outputs": [
    {
     "data": {
      "text/plain": [
       "10"
      ]
     },
     "execution_count": 3,
     "metadata": {},
     "output_type": "execute_result"
    }
   ],
   "source": [
    "import pandas as pd\n",
    "# Import Data\n",
    "data = pd.read_excel('goto-clean.xlsx')\n",
    "\n",
    "#Count Vectorizer\n",
    "from sklearn.feature_extraction.text import CountVectorizer\n",
    "vector = CountVectorizer(min_df = 1)\n",
    "df_counted = vector.fit_transform(data['tweet'])\n",
    "df_counted = df_counted.toarray()\n",
    "feature_names = vector.get_feature_names()\n",
    "feature_counted = pd.DataFrame(df_counted, columns =\n",
    "feature_names)\n",
    "\n",
    "#TF-IDF\n",
    "from sklearn.feature_extraction.text import TfidfTransformer\n",
    "tfidf_transformer = TfidfTransformer(use_idf = True)\n",
    "df_tfidf = tfidf_transformer.fit_transform(df_counted)\n",
    "feature_tfidf = pd.DataFrame(df_tfidf.A, columns =\n",
    "vector.get_feature_names())\n",
    "\n",
    "from sklearn.model_selection import train_test_split\n",
    "x = feature_tfidf\n",
    "y = data['sentiment']\n",
    "x_train, x_test, y_train, y_test = train_test_split(x, y, test_size = 0.2,\n",
    "random_state = 0)\n",
    "from sklearn.model_selection import StratifiedKFold\n",
    "skf = StratifiedKFold(n_splits=10, random_state=0, shuffle=True)\n",
    "skf.get_n_splits(x, y)"
   ]
  },
  {
   "cell_type": "code",
   "execution_count": 4,
   "metadata": {},
   "outputs": [],
   "source": [
    "from sklearn.model_selection import GridSearchCV\n",
    "from sklearn.svm import SVC\n",
    "svc = SVC()"
   ]
  },
  {
   "cell_type": "code",
   "execution_count": null,
   "metadata": {},
   "outputs": [
    {
     "name": "stdout",
     "output_type": "stream",
     "text": [
      "# Tuning hyper-parameters for recall\n",
      "\n"
     ]
    }
   ],
   "source": [
    "tuned_parameters = [{'kernel':['rbf'], 'C':[0.01, 0.01, 0.1, 1, 10, 100, 1000], 'gamma': [0.01, 0.01, 0.1, 1, 10, 100, 1000]}]\n",
    "scores = ['recall']\n",
    "for score in scores:\n",
    "    print(\"# Tuning hyper-parameters for %s\" % score)\n",
    "    print()\n",
    "    tuned = GridSearchCV(SVC(), tuned_parameters, scoring='%s_macro' % score)\n",
    "    tuned.fit(x_train, y_train)\n",
    "    print(\"Best parameters set found on development set:\")\n",
    "    print()\n",
    "    print(tuned.best_params_)\n",
    "    print()\n",
    "    print(\"Grid scores on development set:\")\n",
    "    print()\n",
    "    means = tuned.cv_results_['mean_test_score']\n",
    "    stds = tuned.cv_results_['std_test_score']\n",
    "for mean, std, params in zip(means, stds, tuned.cv_results_['params']):\n",
    "    print(\"%0.3f (+/-%0.03f) for %r\"% (mean, std * 2, params))\n",
    "from sklearn.model_selection import StratifiedKFold\n",
    "skf = StratifiedKFold(n_splits=10, random_state=0, shuffle=True)\n",
    "skf.get_n_splits(x, y)\n",
    "i = 1\n",
    "for train_index, test_index in skf.split(x, y) :\n",
    "    print(\"Fold \",i)\n",
    "    #print(\"TRAIN :\",train_index,\"TEST :\",test_index)\n",
    "    x_train ,x_test=x.loc[train_index] ,x.loc[test_index]\n",
    "    y_train, y_test=y[train_index], y[test_index]\n",
    "    i+=1\n",
    "    modellin = SVC(kernel='rbf', probability=True, C=1000, gamma=0.01)\n",
    "    clf_lin = modellin.fit(x_train, y_train)\n",
    "    pred_labels_tr = modellin.predict(x_train)\n",
    "    pred_labels_te = modellin.predict(x_test)\n",
    "    cm_train = confusion_matrix(y_train, pred_labels_tr)\n",
    "    cm_test = confusion_matrix(y_test, pred_labels_te)\n",
    "\n",
    "    print('----- Evaluation on Training Data -----')\n",
    "    score_tr = modellin.score(x_train, y_train)\n",
    "    print(classification_report(y_train, pred_labels_tr))\n",
    "    print('--------------------------------------------------------')\n",
    "    print(\"Accuracy Train = {:.2f}%\".format(score_tr*100))\n",
    "    print(\"AUC Train: \", roc_auc_score(y_train, pred_labels_tr))\n",
    "    print(\"CM Train = \")\n",
    "    print(cm_train)\n",
    "    print('----- Evaluation on Test Data -----')\n",
    "    score_te = modellin.score(x_test, y_test)\n",
    "\n",
    "    print(classification_report(y_test, pred_labels_te))\n",
    "    print('--------------------------------------------------------')\n",
    "    print(\"Accuracy Test = {:.2f}%\".format(score_te*100))\n",
    "    print(\"AUC Test: \", roc_auc_score(y_test,pred_labels_te))\n",
    "    print(\"CM Test = \")\n",
    "    print(cm_test)\n",
    "    print('--------------------------------------------------------')\n",
    "    print('b = ',clf_lin.intercept_)\n",
    "    print('Indices of support vectors = ', clf_lin.support_)\n",
    "    print('Number of support vectors for each class = ', clf_lin.n_support_)\n",
    "    print('Coefficients of the support vector in the decision function =', np.abs(clf_lin.dual_coef_))\n",
    "    print('--------------------------------------------------------')"
   ]
  },
  {
   "cell_type": "code",
   "execution_count": null,
   "metadata": {},
   "outputs": [],
   "source": [
    "print(score_te.mean())\n",
    "print(roc_auc_score(y_test,pred_labels_te).mean())"
   ]
  },
  {
   "cell_type": "code",
   "execution_count": null,
   "metadata": {},
   "outputs": [],
   "source": []
  },
  {
   "cell_type": "code",
   "execution_count": null,
   "metadata": {},
   "outputs": [],
   "source": []
  }
 ],
 "metadata": {
  "kernelspec": {
   "display_name": "Python 3",
   "language": "python",
   "name": "python3"
  },
  "language_info": {
   "codemirror_mode": {
    "name": "ipython",
    "version": 3
   },
   "file_extension": ".py",
   "mimetype": "text/x-python",
   "name": "python",
   "nbconvert_exporter": "python",
   "pygments_lexer": "ipython3",
   "version": "3.8.5"
  }
 },
 "nbformat": 4,
 "nbformat_minor": 4
}
