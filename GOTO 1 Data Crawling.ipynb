{
 "cells": [
  {
   "cell_type": "code",
   "execution_count": 1,
   "metadata": {},
   "outputs": [],
   "source": [
    "import re #for regular expressions\n",
    "import nltk #for text manipulation\n",
    "import string\n",
    "import warnings\n",
    "import numpy as np\n",
    "import pandas as pd\n",
    "import seaborn as sns\n",
    "import matplotlib.pyplot as plt\n",
    "import snscrape.modules.twitter as sntwitter\n",
    "import tweepy"
   ]
  },
  {
   "cell_type": "code",
   "execution_count": 2,
   "metadata": {},
   "outputs": [],
   "source": [
    "pd.set_option(\"display.max_colwidth\",200)\n",
    "warnings.filterwarnings(\"ignore\",category=DeprecationWarning)\n",
    "%matplotlib inline"
   ]
  },
  {
   "cell_type": "code",
   "execution_count": 3,
   "metadata": {},
   "outputs": [],
   "source": [
    "api_key         = '1tUJbZ2B3H2trmvFBfcSF2ueh'\n",
    "api_key_secret  = '8QYm03DsPMkW0vTkD7rZ2FRFjARjYMwh14j3VJtAqXQiXLfgj1'\n",
    "access_token    = '4327898292-KGOjfrfeqpwBM0kJEGvfb2b18hmZ6CrSUu8ao3Z'\n",
    "access_secret   = 'pAGipm1fBZGWsZQIjjpffpkjlU68NItwMMSHcSYX9Xble'"
   ]
  },
  {
   "cell_type": "code",
   "execution_count": 4,
   "metadata": {},
   "outputs": [],
   "source": [
    "auth = tweepy.OAuthHandler(api_key, api_key_secret)\n",
    "auth.set_access_token(access_token, access_token_secret)\n",
    "api = tweepy.API(auth)"
   ]
  },
  {
   "cell_type": "markdown",
   "metadata": {},
   "source": [
    "# CRAWLING"
   ]
  },
  {
   "cell_type": "code",
   "execution_count": 9,
   "metadata": {},
   "outputs": [
    {
     "data": {
      "text/html": [
       "<div>\n",
       "<style scoped>\n",
       "    .dataframe tbody tr th:only-of-type {\n",
       "        vertical-align: middle;\n",
       "    }\n",
       "\n",
       "    .dataframe tbody tr th {\n",
       "        vertical-align: top;\n",
       "    }\n",
       "\n",
       "    .dataframe thead th {\n",
       "        text-align: right;\n",
       "    }\n",
       "</style>\n",
       "<table border=\"1\" class=\"dataframe\">\n",
       "  <thead>\n",
       "    <tr style=\"text-align: right;\">\n",
       "      <th></th>\n",
       "      <th>Datetime</th>\n",
       "      <th>Tweet Id</th>\n",
       "      <th>Username</th>\n",
       "      <th>Text</th>\n",
       "    </tr>\n",
       "  </thead>\n",
       "  <tbody>\n",
       "    <tr>\n",
       "      <th>0</th>\n",
       "      <td>2022-05-31 23:53:31+00:00</td>\n",
       "      <td>1531785977957474305</td>\n",
       "      <td>yossygirsang</td>\n",
       "      <td>Goto catat Rugi Bersih Rp 6.47 Triliun di Q1 2022. https://t.co/RviZ1chHbB</td>\n",
       "    </tr>\n",
       "    <tr>\n",
       "      <th>1</th>\n",
       "      <td>2022-05-31 23:53:23+00:00</td>\n",
       "      <td>1531785948098592769</td>\n",
       "      <td>edy_siregar_77</td>\n",
       "      <td>Gasss pool pak menteri 😀 start lebih awal menuju pilpres 2024, hasil kinerja sdg disorot publik terkait investasi di PT. Goto yang mengalami kerugian, apakah tidak dihiraukan atau tidak dipikirkan...</td>\n",
       "    </tr>\n",
       "    <tr>\n",
       "      <th>2</th>\n",
       "      <td>2022-05-31 23:44:48+00:00</td>\n",
       "      <td>1531783784789516288</td>\n",
       "      <td>sardjonoss1</td>\n",
       "      <td>@kurawa Kasihat rakyat banyak nya.yg kerja di goto  \\nMain player Ketawa ketawa saat goto dapet siraman dana BUMN  telkomsel  dan kemudian  dianjlokan</td>\n",
       "    </tr>\n",
       "    <tr>\n",
       "      <th>3</th>\n",
       "      <td>2022-05-31 23:24:20+00:00</td>\n",
       "      <td>1531778637066043392</td>\n",
       "      <td>DewiSriAshari1</td>\n",
       "      <td>Kekayaan Andre Soelistyo, Segini Nilai yang Dikantongi dari Saham GoTo</td>\n",
       "    </tr>\n",
       "    <tr>\n",
       "      <th>4</th>\n",
       "      <td>2022-05-31 23:11:24+00:00</td>\n",
       "      <td>1531775382873341953</td>\n",
       "      <td>edy_siregar_77</td>\n",
       "      <td>GoTo Catatkan Rugi Rp 6,6 T di Kuartal I 2022 https://t.co/wcv7MJ9l74\\nPT. Goto Mencatat kerugian di periode berjalan sebesar Rp 6,6 triliun di kuartal I 2022, Perolehan kerugian ini naik sebesar ...</td>\n",
       "    </tr>\n",
       "    <tr>\n",
       "      <th>...</th>\n",
       "      <td>...</td>\n",
       "      <td>...</td>\n",
       "      <td>...</td>\n",
       "      <td>...</td>\n",
       "    </tr>\n",
       "    <tr>\n",
       "      <th>27663</th>\n",
       "      <td>2022-01-01 01:59:13+00:00</td>\n",
       "      <td>1477097045227888647</td>\n",
       "      <td>ChrisWhiteDM</td>\n",
       "      <td>@_vegv Ke erez goto 🌈</td>\n",
       "    </tr>\n",
       "    <tr>\n",
       "      <th>27664</th>\n",
       "      <td>2022-01-01 01:46:39+00:00</td>\n",
       "      <td>1477093883678916608</td>\n",
       "      <td>FessPonti</td>\n",
       "      <td>Budak! Biasanya kan foto kalo udah di sinkoron kan ke google foto kalo di hapus  dari galeri nda bakalan hilanh kan di google fotonya? Kokk punya aku pas di hapus dr galeri di google goto juga iku...</td>\n",
       "    </tr>\n",
       "    <tr>\n",
       "      <th>27665</th>\n",
       "      <td>2022-01-01 01:19:02+00:00</td>\n",
       "      <td>1477086934103388163</td>\n",
       "      <td>trs_cat_bot</td>\n",
       "      <td>Takuya Goto / https://t.co/0Eb5UEJLdSはボクの事好きかにゃぁ？（・ω・｀）ボクは好きにゃ。</td>\n",
       "    </tr>\n",
       "    <tr>\n",
       "      <th>27666</th>\n",
       "      <td>2022-01-01 01:04:36+00:00</td>\n",
       "      <td>1477083299080200195</td>\n",
       "      <td>zephyrcrouch</td>\n",
       "      <td>@valmclaggen // GOTO HELLSNSIDJDN</td>\n",
       "    </tr>\n",
       "    <tr>\n",
       "      <th>27667</th>\n",
       "      <td>2022-01-01 00:37:50+00:00</td>\n",
       "      <td>1477076563732713475</td>\n",
       "      <td>sinkmavie</td>\n",
       "      <td>NAO CONSIGO TIRWR GOTO</td>\n",
       "    </tr>\n",
       "  </tbody>\n",
       "</table>\n",
       "<p>27668 rows × 4 columns</p>\n",
       "</div>"
      ],
      "text/plain": [
       "                       Datetime             Tweet Id        Username  \\\n",
       "0     2022-05-31 23:53:31+00:00  1531785977957474305    yossygirsang   \n",
       "1     2022-05-31 23:53:23+00:00  1531785948098592769  edy_siregar_77   \n",
       "2     2022-05-31 23:44:48+00:00  1531783784789516288     sardjonoss1   \n",
       "3     2022-05-31 23:24:20+00:00  1531778637066043392  DewiSriAshari1   \n",
       "4     2022-05-31 23:11:24+00:00  1531775382873341953  edy_siregar_77   \n",
       "...                         ...                  ...             ...   \n",
       "27663 2022-01-01 01:59:13+00:00  1477097045227888647    ChrisWhiteDM   \n",
       "27664 2022-01-01 01:46:39+00:00  1477093883678916608       FessPonti   \n",
       "27665 2022-01-01 01:19:02+00:00  1477086934103388163     trs_cat_bot   \n",
       "27666 2022-01-01 01:04:36+00:00  1477083299080200195    zephyrcrouch   \n",
       "27667 2022-01-01 00:37:50+00:00  1477076563732713475       sinkmavie   \n",
       "\n",
       "                                                                                                                                                                                                          Text  \n",
       "0                                                                                                                                   Goto catat Rugi Bersih Rp 6.47 Triliun di Q1 2022. https://t.co/RviZ1chHbB  \n",
       "1      Gasss pool pak menteri 😀 start lebih awal menuju pilpres 2024, hasil kinerja sdg disorot publik terkait investasi di PT. Goto yang mengalami kerugian, apakah tidak dihiraukan atau tidak dipikirkan...  \n",
       "2                                                       @kurawa Kasihat rakyat banyak nya.yg kerja di goto  \\nMain player Ketawa ketawa saat goto dapet siraman dana BUMN  telkomsel  dan kemudian  dianjlokan  \n",
       "3                                                                                                                                       Kekayaan Andre Soelistyo, Segini Nilai yang Dikantongi dari Saham GoTo  \n",
       "4      GoTo Catatkan Rugi Rp 6,6 T di Kuartal I 2022 https://t.co/wcv7MJ9l74\\nPT. Goto Mencatat kerugian di periode berjalan sebesar Rp 6,6 triliun di kuartal I 2022, Perolehan kerugian ini naik sebesar ...  \n",
       "...                                                                                                                                                                                                        ...  \n",
       "27663                                                                                                                                                                                    @_vegv Ke erez goto 🌈  \n",
       "27664  Budak! Biasanya kan foto kalo udah di sinkoron kan ke google foto kalo di hapus  dari galeri nda bakalan hilanh kan di google fotonya? Kokk punya aku pas di hapus dr galeri di google goto juga iku...  \n",
       "27665                                                                                                                                          Takuya Goto / https://t.co/0Eb5UEJLdSはボクの事好きかにゃぁ？（・ω・｀）ボクは好きにゃ。  \n",
       "27666                                                                                                                                                                        @valmclaggen // GOTO HELLSNSIDJDN  \n",
       "27667                                                                                                                                                                                   NAO CONSIGO TIRWR GOTO  \n",
       "\n",
       "[27668 rows x 4 columns]"
      ]
     },
     "execution_count": 9,
     "metadata": {},
     "output_type": "execute_result"
    }
   ],
   "source": [
    "# Creating list to append tweet data to\n",
    "tweets_goto = []\n",
    "\n",
    "# Using TwitterSearchScraper to scrape data and append tweets to list\n",
    "for i,tweet in enumerate(sntwitter.TwitterSearchScraper('GOTO since:2022-01-01 until:2022-06-01 lang:id').get_items()):\n",
    "    if i>30000:\n",
    "        break\n",
    "    tweets_goto.append([tweet.date, tweet.id, tweet.user.username, tweet.content])\n",
    "    \n",
    "# Creating a dataframe from the tweets list above\n",
    "tweets_goto = pd.DataFrame(tweets_goto, columns=['Datetime', 'Tweet Id', 'Username', 'Text'])\n",
    "tweets_goto"
   ]
  },
  {
   "cell_type": "code",
   "execution_count": 10,
   "metadata": {},
   "outputs": [],
   "source": [
    "tweets_goto.to_csv('sentiment_goto_jan-mei.csv')"
   ]
  }
 ],
 "metadata": {
  "kernelspec": {
   "display_name": "Python 3",
   "language": "python",
   "name": "python3"
  },
  "language_info": {
   "codemirror_mode": {
    "name": "ipython",
    "version": 3
   },
   "file_extension": ".py",
   "mimetype": "text/x-python",
   "name": "python",
   "nbconvert_exporter": "python",
   "pygments_lexer": "ipython3",
   "version": "3.8.5"
  }
 },
 "nbformat": 4,
 "nbformat_minor": 4
}
